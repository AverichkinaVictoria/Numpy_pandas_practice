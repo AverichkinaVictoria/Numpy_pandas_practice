{
  "nbformat": 4,
  "nbformat_minor": 0,
  "metadata": {
    "kernelspec": {
      "display_name": "Python 3",
      "language": "python",
      "name": "python3"
    },
    "language_info": {
      "codemirror_mode": {
        "name": "ipython",
        "version": 3
      },
      "file_extension": ".py",
      "mimetype": "text/x-python",
      "name": "python",
      "nbconvert_exporter": "python",
      "pygments_lexer": "ipython3",
      "version": "3.7.4"
    },
    "colab": {
      "name": "Numpy_pandas_visualization.ipynb",
      "provenance": [],
      "collapsed_sections": [
        "0gHQZQgD8O-2",
        "c8A78tYo8O-5"
      ],
      "toc_visible": true
    }
  },
  "cells": [
    {
      "cell_type": "markdown",
      "metadata": {
        "id": "nxV8NOVj8O-u"
      },
      "source": [
        "# HSE 2021: Mathematical Methods for Data Analysis\n"
      ]
    },
    {
      "cell_type": "code",
      "metadata": {
        "id": "6JAXcOHG8O-1"
      },
      "source": [
        "%matplotlib inline\n",
        "import numpy as np\n",
        "import pandas as pd\n",
        "import matplotlib.pyplot as plt\n",
        "import seaborn as sns"
      ],
      "execution_count": 1,
      "outputs": []
    },
    {
      "cell_type": "markdown",
      "metadata": {
        "id": "0gHQZQgD8O-2"
      },
      "source": [
        "# 1. Python (2 points)"
      ]
    },
    {
      "cell_type": "markdown",
      "metadata": {
        "id": "p7x1CEDD8O-2"
      },
      "source": [
        "**Task 1** <br/> \n",
        "Enter numbers `a`,  `d` и `N`. Find sum of the first `N` members of arithmetic progression with the first member `a` and difference `d`, without using formula for the sum."
      ]
    },
    {
      "cell_type": "code",
      "metadata": {
        "colab": {
          "base_uri": "https://localhost:8080/"
        },
        "id": "gUOYvWvn8O-3",
        "outputId": "430bfca1-b9a0-463e-880f-25db0a6cb49c"
      },
      "source": [
        "def find_sum(a,d,N):\n",
        "  arr_sum = 0\n",
        "  for i in range(N):\n",
        "    arr_sum += a\n",
        "    a += d\n",
        "  return arr_sum\n",
        "\n",
        "a = 2\n",
        "d = 3\n",
        "N = 15\n",
        "print(find_sum(a,d,N))"
      ],
      "execution_count": null,
      "outputs": [
        {
          "output_type": "stream",
          "text": [
            "345\n"
          ],
          "name": "stdout"
        }
      ]
    },
    {
      "cell_type": "markdown",
      "metadata": {
        "id": "xgpjYGG_8O-3"
      },
      "source": [
        "**Task 2**  <br/> \n",
        "Enter an integer number `N`. Check if it is a prime number."
      ]
    },
    {
      "cell_type": "code",
      "metadata": {
        "colab": {
          "base_uri": "https://localhost:8080/"
        },
        "id": "I6spd2og8O-4",
        "outputId": "697c6b8b-7580-43d0-d5bf-20d562fd28d6"
      },
      "source": [
        "def check_prime(N):\n",
        "  d = 2\n",
        "  check_result = False\n",
        "  if N == 1:\n",
        "    return False\n",
        "  while N % d != 0:\n",
        "    d += 1\n",
        "  if d == N:\n",
        "    check_result = True\n",
        "  return check_result\n",
        "\n",
        "for N in [1,3,8, 13, 111, 113, 237, 307, 479, 481]:\n",
        "    print(N, check_prime(N))"
      ],
      "execution_count": 3,
      "outputs": [
        {
          "output_type": "stream",
          "text": [
            "1 False\n",
            "3 True\n",
            "8 False\n",
            "13 True\n",
            "111 False\n",
            "113 True\n",
            "237 False\n",
            "307 True\n",
            "479 True\n",
            "481 False\n"
          ],
          "name": "stdout"
        }
      ]
    },
    {
      "cell_type": "markdown",
      "metadata": {
        "id": "G2b-qIyi8O-4"
      },
      "source": [
        "**Task 3** <br/> \n",
        "Find the first `N` prime numbers (you may use the function from the precious task)."
      ]
    },
    {
      "cell_type": "code",
      "metadata": {
        "colab": {
          "base_uri": "https://localhost:8080/"
        },
        "id": "ra3f-kz88O-4",
        "outputId": "2943337b-e6e2-4738-c934-ef8f8cd9804d"
      },
      "source": [
        "def find_primes(N):\n",
        "    primes = []\n",
        "    start = 2\n",
        "    while (N != 0):\n",
        "      if (check_prime(start)):\n",
        "        primes.append(start)\n",
        "        N -= 1\n",
        "      start += 1\n",
        "    return primes\n",
        "\n",
        "print(find_primes(5))\n",
        "print(find_primes(10))\n",
        "print(find_primes(20))"
      ],
      "execution_count": null,
      "outputs": [
        {
          "output_type": "stream",
          "text": [
            "[2, 3, 5, 7, 11]\n",
            "[2, 3, 5, 7, 11, 13, 17, 19, 23, 29]\n",
            "[2, 3, 5, 7, 11, 13, 17, 19, 23, 29, 31, 37, 41, 43, 47, 53, 59, 61, 67, 71]\n"
          ],
          "name": "stdout"
        }
      ]
    },
    {
      "cell_type": "markdown",
      "metadata": {
        "id": "0Hq1Ksu18O-5"
      },
      "source": [
        "**Task 4**  <br/> \n",
        "There are numbers: `a`, `b`, `c`. Without using functions `min`, `max` and other functions, find the maximum number."
      ]
    },
    {
      "cell_type": "code",
      "metadata": {
        "colab": {
          "base_uri": "https://localhost:8080/"
        },
        "id": "k3U4f66r8O-5",
        "outputId": "8fc43d02-60ca-4edc-9f04-5bdf1cfed310"
      },
      "source": [
        "from random import randint\n",
        "def find_max(a, b, c):\n",
        "    max_ = a\n",
        "    if max_ < b:\n",
        "      max_ = b\n",
        "    if max_ < c:\n",
        "      max_ = c\n",
        "    return max_\n",
        "\n",
        "for i in range(10):\n",
        "    \n",
        "    a = randint(-100, 100)\n",
        "    b = randint(-100, 100)\n",
        "    c = randint(-100, 100)\n",
        "    \n",
        "    print(a, b, c, '\\tMaximum:', find_max(a, b, c))"
      ],
      "execution_count": null,
      "outputs": [
        {
          "output_type": "stream",
          "text": [
            "2 -86 -46 \tMaximum: 2\n",
            "18 69 99 \tMaximum: 99\n",
            "13 -80 -20 \tMaximum: 13\n",
            "39 25 -15 \tMaximum: 39\n",
            "12 -78 38 \tMaximum: 38\n",
            "47 20 -32 \tMaximum: 47\n",
            "-10 -28 41 \tMaximum: 41\n",
            "-73 -18 35 \tMaximum: 35\n",
            "48 -100 -97 \tMaximum: 48\n",
            "17 -96 46 \tMaximum: 46\n"
          ],
          "name": "stdout"
        }
      ]
    },
    {
      "cell_type": "markdown",
      "metadata": {
        "id": "c8A78tYo8O-5"
      },
      "source": [
        "# 2. Numpy (4 points)"
      ]
    },
    {
      "cell_type": "markdown",
      "metadata": {
        "id": "ket97H6y8O-5"
      },
      "source": [
        "**Task 1**  <br/>\n",
        "Create a random array (`np.random.rand()`) with length of 10 and with sum of its elements equals to 2."
      ]
    },
    {
      "cell_type": "code",
      "metadata": {
        "colab": {
          "base_uri": "https://localhost:8080/"
        },
        "id": "upDrqMtA8O-6",
        "outputId": "79bdc1f9-3e41-4606-e903-212aaad54239"
      },
      "source": [
        "my_array = np.random.rand(10)\n",
        "sum = my_array.sum()\n",
        "my_array = (my_array / sum) * 2\n",
        "print(len(my_array))\n",
        "print(np.sum(my_array))"
      ],
      "execution_count": null,
      "outputs": [
        {
          "output_type": "stream",
          "text": [
            "10\n",
            "2.0000000000000004\n"
          ],
          "name": "stdout"
        }
      ]
    },
    {
      "cell_type": "markdown",
      "metadata": {
        "id": "YWVjQG0c8O-6"
      },
      "source": [
        "**Task 2**  <br/>\n",
        "Create two random arrays $a$ and $b$ with the same length. \n",
        "\n",
        "Calculate the following distances between the arrays **without using special funcrion. You may only use basic numpy operations.**:\n",
        "\n",
        "* Euclidean Distance\n",
        "$$ d(a, b) = \\sqrt{\\sum_i (a_i - b_i)^2} $$\n",
        "* Manhattan Distance\n",
        "$$ d(a, b) = \\sum_i |a_i - b_i| $$\n",
        "* Cosine Distance\n",
        "$$ d(a, b) = 1 - \\frac{a^\\top b}{||a||_2\\cdot||b||_2}$$\n"
      ]
    },
    {
      "cell_type": "code",
      "metadata": {
        "id": "8y-SR6ia8O-6"
      },
      "source": [
        "def cal_euclidean(a, b):    \n",
        "  distance = (a-b)**2\n",
        "  distance = (np.sum(distance))**(1/2)\n",
        "  return distance\n",
        "\n",
        "def cal_manhattan(a, b):    \n",
        "    distance = abs(a - b)\n",
        "    distance = np.sum(distance)\n",
        "    return distance\n",
        "\n",
        "def cal_cosine(a, b):    \n",
        "    a_norm = np.dot(a,a)**(1/2)\n",
        "    b_norm = np.dot(b,b)**(1/2)\n",
        "    distance = 1 - ((np.dot((np.transpose(a)),b))/(a_norm*b_norm))\n",
        "    return distance"
      ],
      "execution_count": null,
      "outputs": []
    },
    {
      "cell_type": "code",
      "metadata": {
        "id": "J4TiIxId8O-7",
        "colab": {
          "base_uri": "https://localhost:8080/"
        },
        "outputId": "935a4929-b745-44eb-f31d-7e8a0ab5de86"
      },
      "source": [
        "a = np.random.randint(-10, 10, size=10)\n",
        "b = np.random.randint(-10, 10, size=10)\n",
        "print (a)\n",
        "print (b)\n",
        "print(cal_euclidean(a, b))\n",
        "print(cal_manhattan(a, b))\n",
        "print(cal_cosine(a, b))"
      ],
      "execution_count": null,
      "outputs": [
        {
          "output_type": "stream",
          "text": [
            "[-10   6   1  -6  -5  -2   4   0   7   3]\n",
            "[-10   7  -3   7  -2 -10 -10   3  -4  -2]\n",
            "24.698178070456937\n",
            "62\n",
            "0.8479119854710016\n"
          ],
          "name": "stdout"
        }
      ]
    },
    {
      "cell_type": "markdown",
      "metadata": {
        "id": "_dFPlN2O8O-8"
      },
      "source": [
        "**Task 3** <br/>\n",
        "Create an array with shape of $5 \\times 6$ with integers from [0,50]. Print a column that contains the maximum element of the array."
      ]
    },
    {
      "cell_type": "code",
      "metadata": {
        "id": "iineB9Yw8O-8",
        "colab": {
          "base_uri": "https://localhost:8080/"
        },
        "outputId": "29955ab6-98ce-43df-d133-f6f3eec76b02"
      },
      "source": [
        "my_array = np.random.randint(0,51,size = (5,6))\n",
        "#print(np.max(my_array))\n",
        "m = np.argmax(np.max(my_array, axis=0))\n",
        "selected_column = my_array[:,m]\n",
        "\n",
        "print('Shape: ',my_array.shape)\n",
        "print('Array')\n",
        "print(my_array)\n",
        "print(selected_column)"
      ],
      "execution_count": null,
      "outputs": [
        {
          "output_type": "stream",
          "text": [
            "46\n",
            "Shape:  (5, 6)\n",
            "Array\n",
            "[[22 43 43  6 25 17]\n",
            " [ 0  0 16 33 15  0]\n",
            " [44  7 18 13 39 41]\n",
            " [35 29 36 36 26 44]\n",
            " [22  1 23 33 46 14]]\n",
            "[25 15 39 26 46]\n"
          ],
          "name": "stdout"
        }
      ]
    },
    {
      "cell_type": "markdown",
      "metadata": {
        "id": "1nOBo3xJ8O-8"
      },
      "source": [
        "**Task 4**  <br/>\n",
        "\n",
        "Replace all missing values in the following array with mean."
      ]
    },
    {
      "cell_type": "code",
      "metadata": {
        "id": "_SDRwj4U8O-9",
        "colab": {
          "base_uri": "https://localhost:8080/"
        },
        "outputId": "587a6b1d-8d54-41d8-aec8-fce81c5a0389"
      },
      "source": [
        "arr = np.random.rand(10)\n",
        "idx = np.random.randint(0, 10, 4)\n",
        "arr[idx] = np.nan\n",
        "\n",
        "arr"
      ],
      "execution_count": null,
      "outputs": [
        {
          "output_type": "execute_result",
          "data": {
            "text/plain": [
              "array([       nan, 0.60905148,        nan, 0.13554055, 0.05189233,\n",
              "       0.62905437, 0.1848043 , 0.15112487,        nan, 0.83710162])"
            ]
          },
          "metadata": {
            "tags": []
          },
          "execution_count": 122
        }
      ]
    },
    {
      "cell_type": "code",
      "metadata": {
        "id": "hRus8GcE8O--",
        "colab": {
          "base_uri": "https://localhost:8080/"
        },
        "outputId": "23ca1e59-e72f-4346-f028-f453c234ba15"
      },
      "source": [
        "average = np.nanmean(arr)\n",
        "arr[np.isnan(arr)] = average\n",
        "print(arr)"
      ],
      "execution_count": null,
      "outputs": [
        {
          "output_type": "stream",
          "text": [
            "[0.37122422 0.60905148 0.37122422 0.13554055 0.05189233 0.62905437\n",
            " 0.1848043  0.15112487 0.37122422 0.83710162]\n"
          ],
          "name": "stdout"
        }
      ]
    },
    {
      "cell_type": "markdown",
      "metadata": {
        "id": "nCy7BfrD8O--"
      },
      "source": [
        "**Task 5** <br/>\n",
        "Create a function which takes an image ```X``` (3D array of the shape (n, m, 3)) as an input and returns the mean for all 3 channels (a vector of shape 3)."
      ]
    },
    {
      "cell_type": "code",
      "metadata": {
        "id": "GdfHmmN78O--"
      },
      "source": [
        "def mean_channel(X):\n",
        "  mean_vector = np.mean(X, axis=(0,1))\n",
        "  return mean_vector"
      ],
      "execution_count": null,
      "outputs": []
    },
    {
      "cell_type": "code",
      "metadata": {
        "id": "9qlGNvpc8O--",
        "colab": {
          "base_uri": "https://localhost:8080/"
        },
        "outputId": "84afa1bb-8460-479b-9a03-09b8f7ed6d87"
      },
      "source": [
        "n = 28\n",
        "m = 16\n",
        "X =  np.random.randint(-10, 10, size=(n,m,3))\n",
        "mean_channel(X)"
      ],
      "execution_count": null,
      "outputs": [
        {
          "output_type": "execute_result",
          "data": {
            "text/plain": [
              "array([-0.30357143, -0.70982143, -0.38392857])"
            ]
          },
          "metadata": {
            "tags": []
          },
          "execution_count": 127
        }
      ]
    },
    {
      "cell_type": "markdown",
      "metadata": {
        "id": "v7aM7v5Z8O-_"
      },
      "source": [
        "**Task 6**  <br/>\n",
        "Create a function which takes a matrix ```X``` as an input and returns all its unique rows as a matrix, i.e. in a 3D matrix you need to return all unique horizontal layers.\n",
        "\n",
        "Sample input:\n",
        "\n",
        "     ([[[4, 4],\n",
        "        [5, 5]],\n",
        "\n",
        "       [[4, 5],\n",
        "        [5, 5]],\n",
        "\n",
        "       [[4, 4],\n",
        "        [5, 4]],\n",
        "\n",
        "       [[4, 5],\n",
        "        [5, 5]],\n",
        "\n",
        "       [[5, 4],\n",
        "        [4, 4]],\n",
        "\n",
        "       [[5, 5],\n",
        "        [4, 5]]])\n",
        "        \n",
        "Sample output:\n",
        "\n",
        "     ([[[4, 4],\n",
        "        [5, 5]],\n",
        "\n",
        "       [[4, 5],\n",
        "        [5, 5]],\n",
        "\n",
        "       [[4, 4],\n",
        "        [5, 4]],\n",
        "\n",
        "       [[5, 4],\n",
        "        [4, 4]],\n",
        "\n",
        "       [[5, 5],\n",
        "        [4, 5]]])"
      ]
    },
    {
      "cell_type": "code",
      "metadata": {
        "id": "8cdG1Ojl8O-_"
      },
      "source": [
        "def get_unique_rows(X):\n",
        "    X_unique = np.unique(X, axis=0)\n",
        "    return X_unique"
      ],
      "execution_count": null,
      "outputs": []
    },
    {
      "cell_type": "code",
      "metadata": {
        "id": "-isP1wv78O-_",
        "colab": {
          "base_uri": "https://localhost:8080/"
        },
        "outputId": "b16cc16f-e6eb-485c-842a-cae5816ed2dc"
      },
      "source": [
        "X =  np.random.randint(4, 6, size=(n, 2, 2))\n",
        "print(X)"
      ],
      "execution_count": null,
      "outputs": [
        {
          "output_type": "stream",
          "text": [
            "[[[5 4]\n",
            "  [5 5]]\n",
            "\n",
            " [[4 5]\n",
            "  [5 4]]\n",
            "\n",
            " [[5 5]\n",
            "  [4 4]]\n",
            "\n",
            " [[5 4]\n",
            "  [5 4]]\n",
            "\n",
            " [[4 4]\n",
            "  [5 5]]\n",
            "\n",
            " [[5 4]\n",
            "  [4 4]]\n",
            "\n",
            " [[5 5]\n",
            "  [5 5]]\n",
            "\n",
            " [[5 5]\n",
            "  [5 5]]\n",
            "\n",
            " [[4 4]\n",
            "  [4 4]]\n",
            "\n",
            " [[5 4]\n",
            "  [5 4]]\n",
            "\n",
            " [[5 5]\n",
            "  [4 4]]\n",
            "\n",
            " [[4 4]\n",
            "  [5 5]]\n",
            "\n",
            " [[5 5]\n",
            "  [5 4]]\n",
            "\n",
            " [[4 4]\n",
            "  [4 4]]\n",
            "\n",
            " [[5 5]\n",
            "  [4 4]]\n",
            "\n",
            " [[4 5]\n",
            "  [4 4]]\n",
            "\n",
            " [[4 4]\n",
            "  [4 4]]\n",
            "\n",
            " [[4 5]\n",
            "  [5 5]]\n",
            "\n",
            " [[4 5]\n",
            "  [5 5]]\n",
            "\n",
            " [[4 4]\n",
            "  [4 5]]\n",
            "\n",
            " [[4 5]\n",
            "  [4 5]]\n",
            "\n",
            " [[5 5]\n",
            "  [4 4]]\n",
            "\n",
            " [[5 5]\n",
            "  [5 4]]\n",
            "\n",
            " [[5 4]\n",
            "  [5 4]]\n",
            "\n",
            " [[5 4]\n",
            "  [4 4]]\n",
            "\n",
            " [[5 5]\n",
            "  [5 5]]\n",
            "\n",
            " [[4 5]\n",
            "  [4 4]]\n",
            "\n",
            " [[5 5]\n",
            "  [4 5]]]\n"
          ],
          "name": "stdout"
        }
      ]
    },
    {
      "cell_type": "code",
      "metadata": {
        "id": "xC73Agfs8O-_",
        "colab": {
          "base_uri": "https://localhost:8080/"
        },
        "outputId": "d0900398-d896-4880-a24d-cd7cca6e0549"
      },
      "source": [
        "get_unique_rows(X)"
      ],
      "execution_count": null,
      "outputs": [
        {
          "output_type": "execute_result",
          "data": {
            "text/plain": [
              "array([[[4, 4],\n",
              "        [4, 4]],\n",
              "\n",
              "       [[4, 4],\n",
              "        [4, 5]],\n",
              "\n",
              "       [[4, 4],\n",
              "        [5, 5]],\n",
              "\n",
              "       [[4, 5],\n",
              "        [4, 4]],\n",
              "\n",
              "       [[4, 5],\n",
              "        [4, 5]],\n",
              "\n",
              "       [[4, 5],\n",
              "        [5, 4]],\n",
              "\n",
              "       [[4, 5],\n",
              "        [5, 5]],\n",
              "\n",
              "       [[5, 4],\n",
              "        [4, 4]],\n",
              "\n",
              "       [[5, 4],\n",
              "        [5, 4]],\n",
              "\n",
              "       [[5, 4],\n",
              "        [5, 5]],\n",
              "\n",
              "       [[5, 5],\n",
              "        [4, 4]],\n",
              "\n",
              "       [[5, 5],\n",
              "        [4, 5]],\n",
              "\n",
              "       [[5, 5],\n",
              "        [5, 4]],\n",
              "\n",
              "       [[5, 5],\n",
              "        [5, 5]]])"
            ]
          },
          "metadata": {
            "tags": []
          },
          "execution_count": 130
        }
      ]
    },
    {
      "cell_type": "markdown",
      "metadata": {
        "id": "C6Chwbzg8O-_"
      },
      "source": [
        "# 3. Pandas & Visualization (4 points)\n"
      ]
    },
    {
      "cell_type": "markdown",
      "metadata": {
        "id": "r-VW9AQx8O_A"
      },
      "source": [
        "You are going to work with *Titanic* dataset which contains information about passengers of Titanic:\n",
        "- **Survived** - 1 - survived, 0 - died (0); **Target variable**\n",
        "- **pclass** - passengers's class;\n",
        "- **sex** - passengers's sex\n",
        "- **Age** - passengers's age in years\n",
        "- **sibsp**    - is the passenger someones siblings   \n",
        "- **parch**    - is the passenger someones child or parent\n",
        "- **ticket** - ticket number    \n",
        "- **fare** - ticket price    \n",
        "- **cabin** - cabin number\n",
        "- **embarked** - port of Embarkation; C = Cherbourg, Q = Queenstown, S = Southampton\n",
        "\n",
        "**Note** for all visualizations use matplotlib or seaborn but NOT plotly! Plotly's graphics sometimes vanish after saving. In this case the task wont't be graded.\n",
        "\n",
        "**Note** support all your answers with necessary code, computations, vizualization, and explanation. Answers without code and explanation won't be graded."
      ]
    },
    {
      "cell_type": "code",
      "metadata": {
        "id": "xE4gR7WG8O_A"
      },
      "source": [
        "# load the dataset\n",
        "\n",
        "from google.colab import files\n",
        "uploaded = files.upload()\n",
        "\n",
        "dataset = pd.read_csv('titanic.csv')"
      ],
      "execution_count": null,
      "outputs": []
    },
    {
      "cell_type": "markdown",
      "metadata": {
        "id": "6WMBtbsg8O_A"
      },
      "source": [
        "**Task 1**  <br/>\n",
        "Answer the following questions:\n",
        "    \n",
        "    * Are there any missing values? In what columns?\n",
        "    * How many classes (pclass) were there on Tinanic?\n",
        "    * What is the percentage of survived passengers? Are the classes balanced?\n",
        "    * What is the average ticket fare?\n",
        "    * What what the most popular port of embarkation?\n",
        "Please, write not only the answers but the code, proving it."
      ]
    },
    {
      "cell_type": "code",
      "metadata": {
        "id": "Alx4wO_48O_A",
        "colab": {
          "base_uri": "https://localhost:8080/"
        },
        "outputId": "b470e505-806d-4672-a3eb-61be368eefa8"
      },
      "source": [
        "## 1. Are there any missing values? In what columns?\n",
        "# Yes. In columns: Age, Cabin, Embarked\n",
        "\n",
        "for column in dataset.columns:\n",
        "  is_nan = dataset[column].isnull().sum()\n",
        "  if is_nan > 0:\n",
        "    print(column)\n"
      ],
      "execution_count": null,
      "outputs": [
        {
          "output_type": "stream",
          "text": [
            "Age\n",
            "Cabin\n",
            "Embarked\n"
          ],
          "name": "stdout"
        }
      ]
    },
    {
      "cell_type": "code",
      "metadata": {
        "colab": {
          "base_uri": "https://localhost:8080/"
        },
        "id": "vUrOvfaDVKaF",
        "outputId": "b87c4e27-24fe-4da1-d4fa-bae90929feb5"
      },
      "source": [
        "## 2. How many classes (pclass) were there on Tinanic?\n",
        "# 3\n",
        "\n",
        "dataset.groupby('Pclass').count().shape[0]"
      ],
      "execution_count": null,
      "outputs": [
        {
          "output_type": "execute_result",
          "data": {
            "text/plain": [
              "3"
            ]
          },
          "metadata": {
            "tags": []
          },
          "execution_count": 8
        }
      ]
    },
    {
      "cell_type": "code",
      "metadata": {
        "colab": {
          "base_uri": "https://localhost:8080/"
        },
        "id": "pO7Zd43rWy2A",
        "outputId": "13baf9ea-929f-4ed5-a67d-ed55694382b6"
      },
      "source": [
        "## 3. What is the percentage of survived passengers? Are the classes balanced?\n",
        "# 38.4%\n",
        "# The classes of survived was not balanced \n",
        "# (First class - 39.8%; Second class - 25.4%; Third class - 34.8%)\n",
        "\n",
        "perc_Survived = (dataset[dataset.Survived == 1].shape[0])/dataset.shape[0]\n",
        "perc_FirstClass = (dataset[(dataset.Survived == 1) & (dataset.Pclass == 1)].shape[0])/(dataset[dataset.Survived == 1].shape[0])\n",
        "perc_SecondClass = (dataset[(dataset.Survived == 1) & (dataset.Pclass == 2)].shape[0])/(dataset[dataset.Survived == 1].shape[0])\n",
        "perc_ThirdClass = (dataset[(dataset.Survived == 1) & (dataset.Pclass == 3)].shape[0])/(dataset[dataset.Survived == 1].shape[0])\n",
        "\n",
        "print(\"Percentage of survived: \", perc_Survived)\n",
        "print(\"Percentage of survived from the first class (compare to the total number of all survived): \", perc_FirstClass)\n",
        "print(\"Percentage of survived from the second class (compare to the total number of all survived): \", perc_SecondClass)\n",
        "print(\"Percentage of survived from the third class (compare to the total number of all survived): \", perc_ThirdClass)\n"
      ],
      "execution_count": null,
      "outputs": [
        {
          "output_type": "stream",
          "text": [
            "Percentage of survived:  0.3838383838383838\n",
            "Percentage of survived from the first class (compare to the total number of all survived):  0.39766081871345027\n",
            "Percentage of survived from the second class (compare to the total number of all survived):  0.2543859649122807\n",
            "Percentage of survived from the third class (compare to the total number of all survived):  0.347953216374269\n"
          ],
          "name": "stdout"
        }
      ]
    },
    {
      "cell_type": "code",
      "metadata": {
        "colab": {
          "base_uri": "https://localhost:8080/"
        },
        "id": "Fvu9aB9JbI2B",
        "outputId": "8cf3e5e2-17d1-4272-d076-243b7d68d891"
      },
      "source": [
        "## 4. What is the average ticket fare?\n",
        "# 32.2\n",
        "\n",
        "dataset['Fare'].mean()\n"
      ],
      "execution_count": null,
      "outputs": [
        {
          "output_type": "execute_result",
          "data": {
            "text/plain": [
              "32.2042079685746"
            ]
          },
          "metadata": {
            "tags": []
          },
          "execution_count": 10
        }
      ]
    },
    {
      "cell_type": "code",
      "metadata": {
        "colab": {
          "base_uri": "https://localhost:8080/",
          "height": 111
        },
        "id": "AlZ-WmlKbrMW",
        "outputId": "7e6dea42-99e0-4a78-ae1b-a54c6b953efb"
      },
      "source": [
        "## 5. What what the most popular port of embarkation?\n",
        "# S\n",
        "extra_data = dataset.groupby('Embarked').count()\n",
        "extra_data[extra_data['PassengerId']==extra_data['PassengerId'].max()]\n",
        "#dataset.groupby('Embarked').count()"
      ],
      "execution_count": null,
      "outputs": [
        {
          "output_type": "execute_result",
          "data": {
            "text/html": [
              "<div>\n",
              "<style scoped>\n",
              "    .dataframe tbody tr th:only-of-type {\n",
              "        vertical-align: middle;\n",
              "    }\n",
              "\n",
              "    .dataframe tbody tr th {\n",
              "        vertical-align: top;\n",
              "    }\n",
              "\n",
              "    .dataframe thead th {\n",
              "        text-align: right;\n",
              "    }\n",
              "</style>\n",
              "<table border=\"1\" class=\"dataframe\">\n",
              "  <thead>\n",
              "    <tr style=\"text-align: right;\">\n",
              "      <th></th>\n",
              "      <th>PassengerId</th>\n",
              "      <th>Survived</th>\n",
              "      <th>Pclass</th>\n",
              "      <th>Name</th>\n",
              "      <th>Sex</th>\n",
              "      <th>Age</th>\n",
              "      <th>SibSp</th>\n",
              "      <th>Parch</th>\n",
              "      <th>Ticket</th>\n",
              "      <th>Fare</th>\n",
              "      <th>Cabin</th>\n",
              "    </tr>\n",
              "    <tr>\n",
              "      <th>Embarked</th>\n",
              "      <th></th>\n",
              "      <th></th>\n",
              "      <th></th>\n",
              "      <th></th>\n",
              "      <th></th>\n",
              "      <th></th>\n",
              "      <th></th>\n",
              "      <th></th>\n",
              "      <th></th>\n",
              "      <th></th>\n",
              "      <th></th>\n",
              "    </tr>\n",
              "  </thead>\n",
              "  <tbody>\n",
              "    <tr>\n",
              "      <th>S</th>\n",
              "      <td>644</td>\n",
              "      <td>644</td>\n",
              "      <td>644</td>\n",
              "      <td>644</td>\n",
              "      <td>644</td>\n",
              "      <td>554</td>\n",
              "      <td>644</td>\n",
              "      <td>644</td>\n",
              "      <td>644</td>\n",
              "      <td>644</td>\n",
              "      <td>129</td>\n",
              "    </tr>\n",
              "  </tbody>\n",
              "</table>\n",
              "</div>"
            ],
            "text/plain": [
              "          PassengerId  Survived  Pclass  Name  ...  Parch  Ticket  Fare  Cabin\n",
              "Embarked                                       ...                            \n",
              "S                 644       644     644   644  ...    644     644   644    129\n",
              "\n",
              "[1 rows x 11 columns]"
            ]
          },
          "metadata": {
            "tags": []
          },
          "execution_count": 11
        }
      ]
    },
    {
      "cell_type": "markdown",
      "metadata": {
        "id": "MSRg1ynR8O_B"
      },
      "source": [
        "**Task 2**  <br/>\n",
        "Find all the titles of the passengers (example, *Capt., Mr.,Mme.*), which are written in the column Name, and answer the following questions:\n",
        "\n",
        "    * How many are there unique titles?\n",
        "    * How many are there passengers with every title?\n",
        "    * What is the most popular man's title? And woman's title?\n",
        "    \n",
        "**Hint** You may select the title from the name as a word which contains a dot."
      ]
    },
    {
      "cell_type": "code",
      "metadata": {
        "id": "pnkXBdjq8O_B",
        "colab": {
          "base_uri": "https://localhost:8080/",
          "height": 607
        },
        "outputId": "22aae572-4847-43d5-be77-8f3594073333"
      },
      "source": [
        "## Your code here\n",
        "new_data = dataset\n",
        "\n",
        "for j in range(new_data.shape[0]):\n",
        "  s = new_data.iloc[j,3]\n",
        "  for i in s.split():\n",
        "    if \".\" in i:\n",
        "      new_data.iloc[j,3] = i\n",
        "      break\n",
        "new_data.groupby('Name').count()"
      ],
      "execution_count": null,
      "outputs": [
        {
          "output_type": "execute_result",
          "data": {
            "text/html": [
              "<div>\n",
              "<style scoped>\n",
              "    .dataframe tbody tr th:only-of-type {\n",
              "        vertical-align: middle;\n",
              "    }\n",
              "\n",
              "    .dataframe tbody tr th {\n",
              "        vertical-align: top;\n",
              "    }\n",
              "\n",
              "    .dataframe thead th {\n",
              "        text-align: right;\n",
              "    }\n",
              "</style>\n",
              "<table border=\"1\" class=\"dataframe\">\n",
              "  <thead>\n",
              "    <tr style=\"text-align: right;\">\n",
              "      <th></th>\n",
              "      <th>PassengerId</th>\n",
              "      <th>Survived</th>\n",
              "      <th>Pclass</th>\n",
              "      <th>Sex</th>\n",
              "      <th>Age</th>\n",
              "      <th>SibSp</th>\n",
              "      <th>Parch</th>\n",
              "      <th>Ticket</th>\n",
              "      <th>Fare</th>\n",
              "      <th>Cabin</th>\n",
              "      <th>Embarked</th>\n",
              "    </tr>\n",
              "    <tr>\n",
              "      <th>Name</th>\n",
              "      <th></th>\n",
              "      <th></th>\n",
              "      <th></th>\n",
              "      <th></th>\n",
              "      <th></th>\n",
              "      <th></th>\n",
              "      <th></th>\n",
              "      <th></th>\n",
              "      <th></th>\n",
              "      <th></th>\n",
              "      <th></th>\n",
              "    </tr>\n",
              "  </thead>\n",
              "  <tbody>\n",
              "    <tr>\n",
              "      <th>Capt.</th>\n",
              "      <td>1</td>\n",
              "      <td>1</td>\n",
              "      <td>1</td>\n",
              "      <td>1</td>\n",
              "      <td>1</td>\n",
              "      <td>1</td>\n",
              "      <td>1</td>\n",
              "      <td>1</td>\n",
              "      <td>1</td>\n",
              "      <td>1</td>\n",
              "      <td>1</td>\n",
              "    </tr>\n",
              "    <tr>\n",
              "      <th>Col.</th>\n",
              "      <td>2</td>\n",
              "      <td>2</td>\n",
              "      <td>2</td>\n",
              "      <td>2</td>\n",
              "      <td>2</td>\n",
              "      <td>2</td>\n",
              "      <td>2</td>\n",
              "      <td>2</td>\n",
              "      <td>2</td>\n",
              "      <td>1</td>\n",
              "      <td>2</td>\n",
              "    </tr>\n",
              "    <tr>\n",
              "      <th>Countess.</th>\n",
              "      <td>1</td>\n",
              "      <td>1</td>\n",
              "      <td>1</td>\n",
              "      <td>1</td>\n",
              "      <td>1</td>\n",
              "      <td>1</td>\n",
              "      <td>1</td>\n",
              "      <td>1</td>\n",
              "      <td>1</td>\n",
              "      <td>1</td>\n",
              "      <td>1</td>\n",
              "    </tr>\n",
              "    <tr>\n",
              "      <th>Don.</th>\n",
              "      <td>1</td>\n",
              "      <td>1</td>\n",
              "      <td>1</td>\n",
              "      <td>1</td>\n",
              "      <td>1</td>\n",
              "      <td>1</td>\n",
              "      <td>1</td>\n",
              "      <td>1</td>\n",
              "      <td>1</td>\n",
              "      <td>0</td>\n",
              "      <td>1</td>\n",
              "    </tr>\n",
              "    <tr>\n",
              "      <th>Dr.</th>\n",
              "      <td>7</td>\n",
              "      <td>7</td>\n",
              "      <td>7</td>\n",
              "      <td>7</td>\n",
              "      <td>6</td>\n",
              "      <td>7</td>\n",
              "      <td>7</td>\n",
              "      <td>7</td>\n",
              "      <td>7</td>\n",
              "      <td>3</td>\n",
              "      <td>7</td>\n",
              "    </tr>\n",
              "    <tr>\n",
              "      <th>Jonkheer.</th>\n",
              "      <td>1</td>\n",
              "      <td>1</td>\n",
              "      <td>1</td>\n",
              "      <td>1</td>\n",
              "      <td>1</td>\n",
              "      <td>1</td>\n",
              "      <td>1</td>\n",
              "      <td>1</td>\n",
              "      <td>1</td>\n",
              "      <td>0</td>\n",
              "      <td>1</td>\n",
              "    </tr>\n",
              "    <tr>\n",
              "      <th>Lady.</th>\n",
              "      <td>1</td>\n",
              "      <td>1</td>\n",
              "      <td>1</td>\n",
              "      <td>1</td>\n",
              "      <td>1</td>\n",
              "      <td>1</td>\n",
              "      <td>1</td>\n",
              "      <td>1</td>\n",
              "      <td>1</td>\n",
              "      <td>1</td>\n",
              "      <td>1</td>\n",
              "    </tr>\n",
              "    <tr>\n",
              "      <th>Major.</th>\n",
              "      <td>2</td>\n",
              "      <td>2</td>\n",
              "      <td>2</td>\n",
              "      <td>2</td>\n",
              "      <td>2</td>\n",
              "      <td>2</td>\n",
              "      <td>2</td>\n",
              "      <td>2</td>\n",
              "      <td>2</td>\n",
              "      <td>2</td>\n",
              "      <td>2</td>\n",
              "    </tr>\n",
              "    <tr>\n",
              "      <th>Master.</th>\n",
              "      <td>40</td>\n",
              "      <td>40</td>\n",
              "      <td>40</td>\n",
              "      <td>40</td>\n",
              "      <td>36</td>\n",
              "      <td>40</td>\n",
              "      <td>40</td>\n",
              "      <td>40</td>\n",
              "      <td>40</td>\n",
              "      <td>7</td>\n",
              "      <td>40</td>\n",
              "    </tr>\n",
              "    <tr>\n",
              "      <th>Miss.</th>\n",
              "      <td>182</td>\n",
              "      <td>182</td>\n",
              "      <td>182</td>\n",
              "      <td>182</td>\n",
              "      <td>146</td>\n",
              "      <td>182</td>\n",
              "      <td>182</td>\n",
              "      <td>182</td>\n",
              "      <td>182</td>\n",
              "      <td>47</td>\n",
              "      <td>181</td>\n",
              "    </tr>\n",
              "    <tr>\n",
              "      <th>Mlle.</th>\n",
              "      <td>2</td>\n",
              "      <td>2</td>\n",
              "      <td>2</td>\n",
              "      <td>2</td>\n",
              "      <td>2</td>\n",
              "      <td>2</td>\n",
              "      <td>2</td>\n",
              "      <td>2</td>\n",
              "      <td>2</td>\n",
              "      <td>2</td>\n",
              "      <td>2</td>\n",
              "    </tr>\n",
              "    <tr>\n",
              "      <th>Mme.</th>\n",
              "      <td>1</td>\n",
              "      <td>1</td>\n",
              "      <td>1</td>\n",
              "      <td>1</td>\n",
              "      <td>1</td>\n",
              "      <td>1</td>\n",
              "      <td>1</td>\n",
              "      <td>1</td>\n",
              "      <td>1</td>\n",
              "      <td>1</td>\n",
              "      <td>1</td>\n",
              "    </tr>\n",
              "    <tr>\n",
              "      <th>Mr.</th>\n",
              "      <td>517</td>\n",
              "      <td>517</td>\n",
              "      <td>517</td>\n",
              "      <td>517</td>\n",
              "      <td>398</td>\n",
              "      <td>517</td>\n",
              "      <td>517</td>\n",
              "      <td>517</td>\n",
              "      <td>517</td>\n",
              "      <td>93</td>\n",
              "      <td>517</td>\n",
              "    </tr>\n",
              "    <tr>\n",
              "      <th>Mrs.</th>\n",
              "      <td>125</td>\n",
              "      <td>125</td>\n",
              "      <td>125</td>\n",
              "      <td>125</td>\n",
              "      <td>108</td>\n",
              "      <td>125</td>\n",
              "      <td>125</td>\n",
              "      <td>125</td>\n",
              "      <td>125</td>\n",
              "      <td>44</td>\n",
              "      <td>124</td>\n",
              "    </tr>\n",
              "    <tr>\n",
              "      <th>Ms.</th>\n",
              "      <td>1</td>\n",
              "      <td>1</td>\n",
              "      <td>1</td>\n",
              "      <td>1</td>\n",
              "      <td>1</td>\n",
              "      <td>1</td>\n",
              "      <td>1</td>\n",
              "      <td>1</td>\n",
              "      <td>1</td>\n",
              "      <td>0</td>\n",
              "      <td>1</td>\n",
              "    </tr>\n",
              "    <tr>\n",
              "      <th>Rev.</th>\n",
              "      <td>6</td>\n",
              "      <td>6</td>\n",
              "      <td>6</td>\n",
              "      <td>6</td>\n",
              "      <td>6</td>\n",
              "      <td>6</td>\n",
              "      <td>6</td>\n",
              "      <td>6</td>\n",
              "      <td>6</td>\n",
              "      <td>0</td>\n",
              "      <td>6</td>\n",
              "    </tr>\n",
              "    <tr>\n",
              "      <th>Sir.</th>\n",
              "      <td>1</td>\n",
              "      <td>1</td>\n",
              "      <td>1</td>\n",
              "      <td>1</td>\n",
              "      <td>1</td>\n",
              "      <td>1</td>\n",
              "      <td>1</td>\n",
              "      <td>1</td>\n",
              "      <td>1</td>\n",
              "      <td>1</td>\n",
              "      <td>1</td>\n",
              "    </tr>\n",
              "  </tbody>\n",
              "</table>\n",
              "</div>"
            ],
            "text/plain": [
              "           PassengerId  Survived  Pclass  Sex  ...  Ticket  Fare  Cabin  Embarked\n",
              "Name                                           ...                               \n",
              "Capt.                1         1       1    1  ...       1     1      1         1\n",
              "Col.                 2         2       2    2  ...       2     2      1         2\n",
              "Countess.            1         1       1    1  ...       1     1      1         1\n",
              "Don.                 1         1       1    1  ...       1     1      0         1\n",
              "Dr.                  7         7       7    7  ...       7     7      3         7\n",
              "Jonkheer.            1         1       1    1  ...       1     1      0         1\n",
              "Lady.                1         1       1    1  ...       1     1      1         1\n",
              "Major.               2         2       2    2  ...       2     2      2         2\n",
              "Master.             40        40      40   40  ...      40    40      7        40\n",
              "Miss.              182       182     182  182  ...     182   182     47       181\n",
              "Mlle.                2         2       2    2  ...       2     2      2         2\n",
              "Mme.                 1         1       1    1  ...       1     1      1         1\n",
              "Mr.                517       517     517  517  ...     517   517     93       517\n",
              "Mrs.               125       125     125  125  ...     125   125     44       124\n",
              "Ms.                  1         1       1    1  ...       1     1      0         1\n",
              "Rev.                 6         6       6    6  ...       6     6      0         6\n",
              "Sir.                 1         1       1    1  ...       1     1      1         1\n",
              "\n",
              "[17 rows x 11 columns]"
            ]
          },
          "metadata": {
            "tags": []
          },
          "execution_count": 12
        }
      ]
    },
    {
      "cell_type": "code",
      "metadata": {
        "colab": {
          "base_uri": "https://localhost:8080/"
        },
        "id": "1NpQwo-vlBso",
        "outputId": "3b79694d-03f1-4127-982b-7e42aebca477"
      },
      "source": [
        "## 1. How many are there unique titles?\n",
        "# 17\n",
        "\n",
        "new_data.groupby('Name').count().shape[0]\n"
      ],
      "execution_count": null,
      "outputs": [
        {
          "output_type": "execute_result",
          "data": {
            "text/plain": [
              "17"
            ]
          },
          "metadata": {
            "tags": []
          },
          "execution_count": 13
        }
      ]
    },
    {
      "cell_type": "code",
      "metadata": {
        "colab": {
          "base_uri": "https://localhost:8080/",
          "height": 607
        },
        "id": "hT_ea9c4luTW",
        "outputId": "a4d96fca-981f-4e94-a0c7-83a122be0c67"
      },
      "source": [
        "## 2. How many are there passengers with every title?\n",
        "# Capt.\t1\n",
        "# Col.\t2\n",
        "# Countess.\t1\n",
        "# Don.\t1\n",
        "# Dr.\t7\n",
        "# Jonkheer.\t1\n",
        "# Lady.\t1\n",
        "# Major.\t2\n",
        "# Master.\t40\n",
        "# Miss.\t182\n",
        "# Mlle.\t2\n",
        "# Mme.\t1\n",
        "# Mr.\t517\n",
        "# Mrs.\t125\n",
        "# Ms.\t1\n",
        "# Rev.\t6\n",
        "# Sir.\t1\n",
        "\n",
        "extra_dataset = new_data.groupby('Name').count().iloc[:,0:1]\n",
        "extra_dataset"
      ],
      "execution_count": null,
      "outputs": [
        {
          "output_type": "execute_result",
          "data": {
            "text/html": [
              "<div>\n",
              "<style scoped>\n",
              "    .dataframe tbody tr th:only-of-type {\n",
              "        vertical-align: middle;\n",
              "    }\n",
              "\n",
              "    .dataframe tbody tr th {\n",
              "        vertical-align: top;\n",
              "    }\n",
              "\n",
              "    .dataframe thead th {\n",
              "        text-align: right;\n",
              "    }\n",
              "</style>\n",
              "<table border=\"1\" class=\"dataframe\">\n",
              "  <thead>\n",
              "    <tr style=\"text-align: right;\">\n",
              "      <th></th>\n",
              "      <th>PassengerId</th>\n",
              "    </tr>\n",
              "    <tr>\n",
              "      <th>Name</th>\n",
              "      <th></th>\n",
              "    </tr>\n",
              "  </thead>\n",
              "  <tbody>\n",
              "    <tr>\n",
              "      <th>Capt.</th>\n",
              "      <td>1</td>\n",
              "    </tr>\n",
              "    <tr>\n",
              "      <th>Col.</th>\n",
              "      <td>2</td>\n",
              "    </tr>\n",
              "    <tr>\n",
              "      <th>Countess.</th>\n",
              "      <td>1</td>\n",
              "    </tr>\n",
              "    <tr>\n",
              "      <th>Don.</th>\n",
              "      <td>1</td>\n",
              "    </tr>\n",
              "    <tr>\n",
              "      <th>Dr.</th>\n",
              "      <td>7</td>\n",
              "    </tr>\n",
              "    <tr>\n",
              "      <th>Jonkheer.</th>\n",
              "      <td>1</td>\n",
              "    </tr>\n",
              "    <tr>\n",
              "      <th>Lady.</th>\n",
              "      <td>1</td>\n",
              "    </tr>\n",
              "    <tr>\n",
              "      <th>Major.</th>\n",
              "      <td>2</td>\n",
              "    </tr>\n",
              "    <tr>\n",
              "      <th>Master.</th>\n",
              "      <td>40</td>\n",
              "    </tr>\n",
              "    <tr>\n",
              "      <th>Miss.</th>\n",
              "      <td>182</td>\n",
              "    </tr>\n",
              "    <tr>\n",
              "      <th>Mlle.</th>\n",
              "      <td>2</td>\n",
              "    </tr>\n",
              "    <tr>\n",
              "      <th>Mme.</th>\n",
              "      <td>1</td>\n",
              "    </tr>\n",
              "    <tr>\n",
              "      <th>Mr.</th>\n",
              "      <td>517</td>\n",
              "    </tr>\n",
              "    <tr>\n",
              "      <th>Mrs.</th>\n",
              "      <td>125</td>\n",
              "    </tr>\n",
              "    <tr>\n",
              "      <th>Ms.</th>\n",
              "      <td>1</td>\n",
              "    </tr>\n",
              "    <tr>\n",
              "      <th>Rev.</th>\n",
              "      <td>6</td>\n",
              "    </tr>\n",
              "    <tr>\n",
              "      <th>Sir.</th>\n",
              "      <td>1</td>\n",
              "    </tr>\n",
              "  </tbody>\n",
              "</table>\n",
              "</div>"
            ],
            "text/plain": [
              "           PassengerId\n",
              "Name                  \n",
              "Capt.                1\n",
              "Col.                 2\n",
              "Countess.            1\n",
              "Don.                 1\n",
              "Dr.                  7\n",
              "Jonkheer.            1\n",
              "Lady.                1\n",
              "Major.               2\n",
              "Master.             40\n",
              "Miss.              182\n",
              "Mlle.                2\n",
              "Mme.                 1\n",
              "Mr.                517\n",
              "Mrs.               125\n",
              "Ms.                  1\n",
              "Rev.                 6\n",
              "Sir.                 1"
            ]
          },
          "metadata": {
            "tags": []
          },
          "execution_count": 14
        }
      ]
    },
    {
      "cell_type": "code",
      "metadata": {
        "colab": {
          "base_uri": "https://localhost:8080/"
        },
        "id": "sjx0g8V_nVH-",
        "outputId": "fa39cb90-986f-4819-bee9-308a52f802da"
      },
      "source": [
        "## 3. What is the most popular man's title? And woman's title?\n",
        "# For man: Mr. (517 people)\n",
        "# For woman: Miss. (182 people)\n",
        "\n",
        "sex_data = new_data.groupby(['Sex','Name']).count().iloc[:, 0:1]\n",
        "sex_data_female = sex_data.loc['female']\n",
        "max_female = sex_data_female.max()\n",
        "woman_popular = sex_data_female.loc[sex_data_female['PassengerId'] == max_female[0]]\n",
        "\n",
        "sex_data_male = sex_data.loc['male']\n",
        "max_male = sex_data_male.max()\n",
        "man_popular = sex_data_male.loc[sex_data_male['PassengerId'] == max_male[0]]\n",
        "\n",
        "print(\"For man: \", man_popular)\n",
        "print(\"For woman: \", woman_popular)\n",
        "\n",
        "#sex_data"
      ],
      "execution_count": null,
      "outputs": [
        {
          "output_type": "stream",
          "text": [
            "For man:        PassengerId\n",
            "Name             \n",
            "Mr.           517\n",
            "For woman:         PassengerId\n",
            "Name              \n",
            "Miss.          182\n"
          ],
          "name": "stdout"
        }
      ]
    },
    {
      "cell_type": "markdown",
      "metadata": {
        "id": "9nxCJCFI8O_B"
      },
      "source": [
        "\n",
        "\n",
        "```\n",
        "# Выбран кодовый формат\n",
        "```\n",
        "\n",
        "**Task 3** <br/>\n",
        "Visualize age distribution (you may use a histogram, for example). \n",
        "\n",
        "    * What is the minimal and maximum ages of the passengers? Visualize it on the plot\n",
        "    * What is the mean age? Visualize it on the plot\n",
        "    * Make conclusions about what you see on the plot"
      ]
    },
    {
      "cell_type": "code",
      "metadata": {
        "colab": {
          "base_uri": "https://localhost:8080/",
          "height": 333
        },
        "id": "jh-HQdsVxDum",
        "outputId": "09465350-16a1-418c-e1fc-64ba8fe12db8"
      },
      "source": [
        "## Visualization of age distribution\n",
        "\n",
        "age_plot = sns.distplot(dataset['Age'])\n",
        "fig = age_plot.get_figure()"
      ],
      "execution_count": null,
      "outputs": [
        {
          "output_type": "stream",
          "text": [
            "/usr/local/lib/python3.6/dist-packages/seaborn/distributions.py:2557: FutureWarning: `distplot` is a deprecated function and will be removed in a future version. Please adapt your code to use either `displot` (a figure-level function with similar flexibility) or `histplot` (an axes-level function for histograms).\n",
            "  warnings.warn(msg, FutureWarning)\n"
          ],
          "name": "stderr"
        },
        {
          "output_type": "display_data",
          "data": {
            "image/png": "[encoded data removed]",
            "text/plain": [
              "<Figure size 432x288 with 1 Axes>"
            ]
          },
          "metadata": {
            "tags": [],
            "needs_background": "light"
          }
        }
      ]
    },
    {
      "cell_type": "code",
      "metadata": {
        "id": "GgVp6wkr8O_B",
        "colab": {
          "base_uri": "https://localhost:8080/",
          "height": 299
        },
        "outputId": "fdc76a32-4eea-4c2e-a1da-f78764e9992b"
      },
      "source": [
        "## What is the minimal and maximum ages of the passengers? Visualize it on the plot\n",
        "# Min:  0.42\n",
        "# Max:  80.0\n",
        "\n",
        "print(\"Min: \", dataset['Age'].min())\n",
        "print(\"Max: \", dataset['Age'].max())\n",
        "histo = dataset['Age'].hist()\n",
        "fig = histo.get_figure()"
      ],
      "execution_count": null,
      "outputs": [
        {
          "output_type": "stream",
          "text": [
            "Min:  0.42\n",
            "Max:  80.0\n"
          ],
          "name": "stdout"
        },
        {
          "output_type": "display_data",
          "data": {
            "image/png": "[encoded data removed]",
            "text/plain": [
              "<Figure size 432x288 with 1 Axes>"
            ]
          },
          "metadata": {
            "tags": [],
            "needs_background": "light"
          }
        }
      ]
    },
    {
      "cell_type": "code",
      "metadata": {
        "colab": {
          "base_uri": "https://localhost:8080/",
          "height": 299
        },
        "id": "a79Ba63NqJTl",
        "outputId": "abb4b833-91c9-48a8-8f92-6bd9db6e64a2"
      },
      "source": [
        "##  What is the mean age? Visualize it on the plot\n",
        "#   Average value is 29.7\n",
        "\n",
        "print(\"Average: \", dataset['Age'].mean())\n",
        "dataset['Age'].plot(kind='box')"
      ],
      "execution_count": null,
      "outputs": [
        {
          "output_type": "stream",
          "text": [
            "Average:  29.69911764705882\n"
          ],
          "name": "stdout"
        },
        {
          "output_type": "execute_result",
          "data": {
            "text/plain": [
              "<matplotlib.axes._subplots.AxesSubplot at 0x7f2179d616d8>"
            ]
          },
          "metadata": {
            "tags": []
          },
          "execution_count": 34
        },
        {
          "output_type": "display_data",
          "data": {
            "image/png": "[encoded data removed]",
            "text/plain": [
              "<Figure size 432x288 with 1 Axes>"
            ]
          },
          "metadata": {
            "tags": [],
            "needs_background": "light"
          }
        }
      ]
    },
    {
      "cell_type": "code",
      "metadata": {
        "id": "j7ud5cgXqJb1"
      },
      "source": [
        "##  Make conclusions about what you see on the plot\n",
        "#   On the plot we can see kind of normal distribution with average equals to \n",
        "#   29.7 years old (average age of all passengers). The minimum and maximum ages\n",
        "#   are 0.42 and 80 years old respectively.\n"
      ],
      "execution_count": null,
      "outputs": []
    },
    {
      "cell_type": "markdown",
      "metadata": {
        "id": "SCpL8TkM8O_C"
      },
      "source": [
        "**Task 4**  <br/>\n",
        "Visualize age distribution for survived and not survived passengers separately and calculate the mean age for each class. Are they different? Make conclusions about what you see on the plot"
      ]
    },
    {
      "cell_type": "code",
      "metadata": {
        "id": "U91F9Go78O_C",
        "colab": {
          "base_uri": "https://localhost:8080/",
          "height": 349
        },
        "outputId": "a85b0c62-fbde-49f5-8713-1ef5e9216178"
      },
      "source": [
        "## Visualize age distribution for survived and not survived passengers\n",
        "\n",
        "data_plt = dataset[['Age','Survived']]\n",
        "data_plt_survived = data_plt[data_plt['Survived'] == 1]\n",
        "data_plt_died = data_plt[data_plt['Survived'] == 0]\n",
        "\n",
        "\n",
        "plt.hist((data_plt_survived['Age'],data_plt_died['Age'] ), bins=15, color = (\"red\",\"green\"), label = (\"Survived\",\"Died\"))\n",
        "plt.title('Age distribution for survived and not survived passengers')\n",
        "plt.legend()\n",
        "plt.xlabel('Age')\n",
        "plt.ylabel('Value')\n",
        "plt.show()\n"
      ],
      "execution_count": null,
      "outputs": [
        {
          "output_type": "stream",
          "text": [
            "/usr/local/lib/python3.6/dist-packages/numpy/core/_asarray.py:83: VisibleDeprecationWarning: Creating an ndarray from ragged nested sequences (which is a list-or-tuple of lists-or-tuples-or ndarrays with different lengths or shapes) is deprecated. If you meant to do this, you must specify 'dtype=object' when creating the ndarray\n",
            "  return array(a, dtype, copy=False, order=order)\n"
          ],
          "name": "stderr"
        },
        {
          "output_type": "display_data",
          "data": {
            "image/png": "[encoded data removed]",
            "text/plain": [
              "<Figure size 432x288 with 1 Axes>"
            ]
          },
          "metadata": {
            "tags": [],
            "needs_background": "light"
          }
        }
      ]
    },
    {
      "cell_type": "code",
      "metadata": {
        "colab": {
          "base_uri": "https://localhost:8080/",
          "height": 652
        },
        "id": "c1NotYutEo5h",
        "outputId": "34b6ccd4-b390-4081-d734-43c9de63258c"
      },
      "source": [
        "## Calculate the mean age for each class. Are they different?\n",
        "# Average survived:  28.34\n",
        "# Average: died 30.63\n",
        "# As we can see average ages of each class is for about the same (4 years of differеnce)\n",
        "\n",
        "print(\"Average survived: \", data_plt_survived['Age'].mean())\n",
        "print(\"Average: died\", data_plt_died['Age'].mean())\n",
        "data_plt_survived.plot(kind='box')\n",
        "data_plt_died.plot(kind='box')"
      ],
      "execution_count": null,
      "outputs": [
        {
          "output_type": "stream",
          "text": [
            "Average survived:  28.343689655172415\n",
            "Average: died 30.62617924528302\n"
          ],
          "name": "stdout"
        },
        {
          "output_type": "stream",
          "text": [
            "/usr/local/lib/python3.6/dist-packages/numpy/core/_asarray.py:83: VisibleDeprecationWarning: Creating an ndarray from ragged nested sequences (which is a list-or-tuple of lists-or-tuples-or ndarrays with different lengths or shapes) is deprecated. If you meant to do this, you must specify 'dtype=object' when creating the ndarray\n",
            "  return array(a, dtype, copy=False, order=order)\n",
            "/usr/local/lib/python3.6/dist-packages/numpy/core/_asarray.py:83: VisibleDeprecationWarning: Creating an ndarray from ragged nested sequences (which is a list-or-tuple of lists-or-tuples-or ndarrays with different lengths or shapes) is deprecated. If you meant to do this, you must specify 'dtype=object' when creating the ndarray\n",
            "  return array(a, dtype, copy=False, order=order)\n"
          ],
          "name": "stderr"
        },
        {
          "output_type": "execute_result",
          "data": {
            "text/plain": [
              "<matplotlib.axes._subplots.AxesSubplot at 0x7f21783c8710>"
            ]
          },
          "metadata": {
            "tags": []
          },
          "execution_count": 108
        },
        {
          "output_type": "display_data",
          "data": {
            "image/png": "[encoded data removed]",
            "text/plain": [
              "<Figure size 432x288 with 1 Axes>"
            ]
          },
          "metadata": {
            "tags": [],
            "needs_background": "light"
          }
        },
        {
          "output_type": "display_data",
          "data": {
            "image/png": "[encoded data removed]",
            "text/plain": [
              "<Figure size 432x288 with 1 Axes>"
            ]
          },
          "metadata": {
            "tags": [],
            "needs_background": "light"
          }
        }
      ]
    },
    {
      "cell_type": "code",
      "metadata": {
        "id": "vDHsunSl1tON"
      },
      "source": [
        "## Make conclusions about what you see on the plot\n",
        "#  From the plots we can conclude, that average ages of each class(Survived and Died) is 28.34 and 30.63 respectively.\n",
        "#  From the first plot we can conclude, that the biggest part of dead people was for about 20-30 y.o."
      ],
      "execution_count": null,
      "outputs": []
    }
  ]
}